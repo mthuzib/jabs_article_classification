{
  "nbformat": 4,
  "nbformat_minor": 0,
  "metadata": {
    "colab": {
      "provenance": [],
      "toc_visible": true,
      "include_colab_link": true
    },
    "kernelspec": {
      "name": "python3",
      "display_name": "Python 3"
    },
    "language_info": {
      "name": "python"
    }
  },
  "cells": [
    {
      "cell_type": "markdown",
      "metadata": {
        "id": "view-in-github",
        "colab_type": "text"
      },
      "source": [
        "<a href=\"https://colab.research.google.com/github/mthuzib/jabs_article_classification/blob/notebooks/jabs_article_classification.ipynb\" target=\"_parent\"><img src=\"https://colab.research.google.com/assets/colab-badge.svg\" alt=\"Open In Colab\"/></a>"
      ]
    },
    {
      "cell_type": "code",
      "execution_count": null,
      "metadata": {
        "id": "bfhb9Wl0gzhQ"
      },
      "outputs": [],
      "source": []
    },
    {
      "cell_type": "markdown",
      "source": [
        "# New Section"
      ],
      "metadata": {
        "id": "HUkqKgA4oeND"
      }
    },
    {
      "cell_type": "markdown",
      "source": [
        "# **BUSINESS UNDERSTANDING**  \n",
        "\n",
        "## **1. Problem Statement**  \n",
        "The University of Zambia *Journal of Agriculture and Biomedical Sciences* **(UNZA-JABS)** is a quarterly Journal open to journal article publication in the fields of **agriculture, medicine, veterinary medicine and biomedical sciences as well as such allied life sciences**. The Journal welcomes manuscripts submissions that meet the general criteria of significance and scientific excellence. Currently, the classification of submitted articles into these categories is performed manually by editors or reviewers, which introduces several challenges:  \n",
        "\n",
        "- **Time-Consuming Process**: Manual categorization requires significant editorial effort, delaying publication timelines.  \n",
        "- **Subjectivity and Human Error**: Different reviewers may classify the same article differently based on their expertise, leading to inconsistencies.  \n",
        "- **Scalability Issues**: As the number of submissions grows, manual classification becomes unsustainable.  \n",
        "\n",
        "To address these challenges, we propose developing an **automated machine learning (ML)-based classification system** that uses **article titles and abstracts** to predict the correct discipline. This system will improve efficiency, reduce bias, and enhance the journal’s ability to organize and index articles effectively.  \n",
        "\n",
        "---\n",
        "\n",
        "## **2. Business Objectives**  \n",
        "The primary goal is to **automate and optimize the classification process** while ensuring high accuracy. Success from a real-world perspective would mean:  \n",
        "\n",
        "### **Key Objectives:**  \n",
        "**Reduce Editorial Workload** - Minimize the time and effort required for manual categorization.  \n",
        "**Improve Classification Accuracy** - Achieve higher consistency than human-based classification.  \n",
        "**Enhance Article Discoverability** - Ensure researchers can easily find articles in their field.  \n",
        "**Support Scalability** - Handle increasing submission volumes without additional staffing.  \n",
        "\n",
        "### **Stakeholder Benefits:**  \n",
        "- **Editors & Reviewers**: Spend less time on administrative tasks and more on content evaluation.  \n",
        "- **Researchers & Readers**: Quickly locate relevant articles due to accurate tagging.  \n",
        "- **Journal Management**: Improve operational efficiency and reduce publication delays.  \n",
        "\n",
        "---\n",
        "\n",
        "## **3. Data Mining Goals**  \n",
        "To achieve the business objectives, we will implement a **text classification model** using Natural Language Processing (NLP) and supervised learning. The key steps include:  \n",
        "\n",
        "### **Step 1: Data Collection & Preprocessing**  \n",
        "- **Dataset Acquisition**: Gather labeled journal articles (title + abstract + discipline) from past issues.  \n",
        "- **Text Cleaning**:  \n",
        "  - Remove special characters, numbers, and irrelevant formatting.  \n",
        "  - Apply tokenization, stopword removal, and lemmatization (e.g., using NLTK or spaCy).  \n",
        "- **Feature Extraction**:  \n",
        "  - Bag-of-Words (BoW) / TF-IDF for traditional ML models.  \n",
        "  - Word embeddings (Word2Vec, GloVe) or transformer-based embeddings (BERT, SciBERT) for deep learning models.  \n",
        "\n",
        "### **Step 2: Model Development**  \n",
        "We will experiment with multiple classification algorithms:  \n",
        "- **Traditional ML Models**:  \n",
        "  - Naïve Bayes (baseline for text classification)  \n",
        "  - Support Vector Machines (SVM)  \n",
        "  - Random Forest / XGBoost (with TF-IDF features)  \n",
        "- **Deep Learning Models**:  \n",
        "  - LSTM / BiLSTM for sequential text analysis  \n",
        "  - Transformer-based models (e.g., BERT, DistilBERT for higher accuracy)  \n",
        "\n",
        "### **Step 3: Model Evaluation & Optimization**  \n",
        "- **Performance Metrics**:  \n",
        "  - Accuracy, Precision, Recall, F1-Score (per class and macro-average).  \n",
        "  - Confusion matrix to analyze misclassifications.  \n",
        "- **Hyperparameter Tuning**:  \n",
        "  - GridSearchCV / RandomSearch for traditional models.  \n",
        "  - Learning rate scheduling for deep learning models.  \n",
        "- **Explainability**:  \n",
        "  - SHAP values / LIME to interpret model decisions.  \n",
        "  - Key term extraction (e.g., most influential words for each category).  \n",
        "\n",
        "### **Step 4: Deployment & Integration**  \n",
        "- **API Development**: Wrap the best model in a REST API (Flask/FastAPI).  \n",
        "- **Journal Submission System Integration**:  \n",
        "  - Automatically suggest categories during manuscript submission.  \n",
        "  - Allow editors to override predictions if needed.  \n",
        "\n",
        "---\n",
        "\n",
        "## **4. Success Criteria**  \n",
        "For the model to be considered successful, it must meet the following benchmarks:  \n",
        "\n",
        "### **Performance Metrics:**  \n",
        "**Accuracy ≥ 85%** (to ensure reliable automated classification).  \n",
        "**Precision & Recall ≥ 80% per class** (to avoid bias toward any discipline).  \n",
        "**Balanced F1-Score** (to ensure fairness across categories).  \n",
        "\n",
        "### **Practical Deployment Requirements:**  \n",
        "**Low Latency** - Predictions should take <1 second to avoid slowing submissions.  \n",
        "**Scalability** - Model should handle thousands of submissions without performance drops.  \n",
        "**Explainability** - Editors should understand why an article was classified a certain way.  \n",
        "\n",
        "---\n",
        "\n",
        "## **5. Potential Challenges & Mitigation Strategies**  \n",
        "| **Challenge** | **Mitigation Strategy** |\n",
        "|--------------|------------------------|\n",
        "| **Class Imbalance** | Use oversampling (SMOTE) or class weights in training. |\n",
        "| **Ambiguous Interdisciplinary Articles** | Introduce a \"Hybrid/Interdisciplinary\" category. |\n",
        "| **Domain-Specific Terminology** | Use SciBERT/BioBERT instead of generic embeddings. |\n",
        "| **Model Interpretability** | Apply SHAP/LIME for transparency in predictions. |\n",
        "\n",
        "---\n",
        "\n",
        "## **6. Future Enhancements**  \n",
        "- **Multi-Label Classification** (for articles belonging to multiple fields).  \n",
        "- **Active Learning** - Allow editors to correct misclassifications to improve the model iteratively.  \n",
        "- **Trend Analysis** - Use classification data to track research trends over time.  \n",
        "\n",
        "---\n",
        "\n",
        "## **Conclusion**  \n",
        "This project will develop an **automated, accurate, and scalable classification system** for the *Journal of Agricultural and Biomedical Sciences*, reducing manual effort and improving consistency. By leveraging NLP and ML, we aim to enhance the journal’s operational efficiency and support researchers in accessing relevant content faster.  \n",
        "\n",
        "**Next Steps:**  \n",
        "1. Collect and preprocess a labeled dataset.  \n",
        "2. Train and compare multiple models.  \n",
        "3. Deploy the best-performing model into the journal’s workflow.  \n",
        "\n",
        "**Expected Impact**: Faster publication process, better-organized archives, and improved user experience for researchers!  \n"
      ],
      "metadata": {
        "id": "m1msmFKceeTq"
      }
    }
  ]
}